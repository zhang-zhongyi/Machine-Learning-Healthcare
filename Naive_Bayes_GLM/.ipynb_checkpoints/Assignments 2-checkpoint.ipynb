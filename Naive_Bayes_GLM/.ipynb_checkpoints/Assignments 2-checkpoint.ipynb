{
 "cells": [
  {
   "cell_type": "markdown",
   "metadata": {},
   "source": [
    "# MScBMI 33200 – Machine Learning for Biomedical Informatics\n",
    "# Assignment I\n",
    "Name: Troy Zhongyi Zhang      \n",
    "Netid: zhongyiz@uchicago.edu       \n"
   ]
  },
  {
   "cell_type": "markdown",
   "metadata": {},
   "source": [
    "### Directions:\n",
    "1.\tFill out below information (tables and methods)\n",
    "2.\tWrite as much detail as possible for the methods section for each problem. The idea is for you to have a record of all the steps you took for building each model. \n",
    "3.\tSubmit this document along with your code in an HTML/PDF format\n",
    "\n",
    "\n",
    "### Section 1: EMR Bots 30-day Readmission study\n",
    "Using the training datasets, create the following models:\n",
    "1. Naïve model: This model utilizes only patient characteristics (age, gender and race) to predict 30-day readmission in a logistic regression framework\n",
    "2. Logistic Regression model : This model utilizes patient characteristics and most-recent lab recordings to predict 30-day admissions in a logistic regression framework.\n"
   ]
  },
  {
   "cell_type": "code",
   "execution_count": 1,
   "metadata": {},
   "outputs": [],
   "source": [
    "import pandas as pd\n",
    "import numpy as np"
   ]
  },
  {
   "cell_type": "code",
   "execution_count": 2,
   "metadata": {},
   "outputs": [],
   "source": [
    "r_outcome = pd.read_csv(\"readmission_outcome.csv\")\n",
    "info = pd.read_csv(\"encounter_info.csv\")\n",
    "#df1 = pd.merge(info, r_outcome, on = \"Encounter_ID\")\n",
    "labs = pd.read_csv(\"encounter_labs.csv\")"
   ]
  },
  {
   "cell_type": "code",
   "execution_count": 3,
   "metadata": {},
   "outputs": [
    {
     "name": "stderr",
     "output_type": "stream",
     "text": [
      "/Library/Frameworks/Python.framework/Versions/3.7/lib/python3.7/site-packages/ipykernel_launcher.py:5: SettingWithCopyWarning: \n",
      "A value is trying to be set on a copy of a slice from a DataFrame.\n",
      "Try using .loc[row_indexer,col_indexer] = value instead\n",
      "\n",
      "See the caveats in the documentation: http://pandas.pydata.org/pandas-docs/stable/indexing.html#indexing-view-versus-copy\n",
      "  \"\"\"\n"
     ]
    },
    {
     "data": {
      "text/html": [
       "<div>\n",
       "<style scoped>\n",
       "    .dataframe tbody tr th:only-of-type {\n",
       "        vertical-align: middle;\n",
       "    }\n",
       "\n",
       "    .dataframe tbody tr th {\n",
       "        vertical-align: top;\n",
       "    }\n",
       "\n",
       "    .dataframe thead th {\n",
       "        text-align: right;\n",
       "    }\n",
       "</style>\n",
       "<table border=\"1\" class=\"dataframe\">\n",
       "  <thead>\n",
       "    <tr style=\"text-align: right;\">\n",
       "      <th></th>\n",
       "      <th>Encounter_ID</th>\n",
       "      <th>Lab_DTTM</th>\n",
       "      <th>CBC..ABSOLUTE.LYMPHOCYTES</th>\n",
       "      <th>CBC..ABSOLUTE.NEUTROPHILS</th>\n",
       "      <th>CBC..BASOPHILS</th>\n",
       "      <th>CBC..EOSINOPHILS</th>\n",
       "      <th>CBC..HEMATOCRIT</th>\n",
       "      <th>CBC..HEMOGLOBIN</th>\n",
       "      <th>CBC..PLATELET.COUNT</th>\n",
       "      <th>CBC..RED.BLOOD.CELL.COUNT</th>\n",
       "      <th>CBC..WHITE.BLOOD.CELL.COUNT</th>\n",
       "      <th>METABOLIC..ALBUMIN</th>\n",
       "      <th>METABOLIC..BILI.TOTAL</th>\n",
       "      <th>METABOLIC..BUN</th>\n",
       "      <th>METABOLIC..CALCIUM</th>\n",
       "      <th>METABOLIC..CREATININE</th>\n",
       "      <th>METABOLIC..POTASSIUM</th>\n",
       "      <th>METABOLIC..SODIUM</th>\n",
       "    </tr>\n",
       "  </thead>\n",
       "  <tbody>\n",
       "    <tr>\n",
       "      <th>0</th>\n",
       "      <td>100000_1</td>\n",
       "      <td>1981-01-08 23:28:24</td>\n",
       "      <td>32.8</td>\n",
       "      <td>76.4</td>\n",
       "      <td>0.0</td>\n",
       "      <td>0.1</td>\n",
       "      <td>35.9</td>\n",
       "      <td>14.8</td>\n",
       "      <td>386.0</td>\n",
       "      <td>4.8</td>\n",
       "      <td>10.7</td>\n",
       "      <td>5.8</td>\n",
       "      <td>0.8</td>\n",
       "      <td>12.6</td>\n",
       "      <td>11.1</td>\n",
       "      <td>0.9</td>\n",
       "      <td>4.1</td>\n",
       "      <td>135.5</td>\n",
       "    </tr>\n",
       "    <tr>\n",
       "      <th>1</th>\n",
       "      <td>100000_2</td>\n",
       "      <td>1996-02-06 17:07:30</td>\n",
       "      <td>16.1</td>\n",
       "      <td>77.9</td>\n",
       "      <td>0.2</td>\n",
       "      <td>0.4</td>\n",
       "      <td>49.6</td>\n",
       "      <td>16.2</td>\n",
       "      <td>339.2</td>\n",
       "      <td>5.8</td>\n",
       "      <td>6.4</td>\n",
       "      <td>2.7</td>\n",
       "      <td>0.9</td>\n",
       "      <td>15.6</td>\n",
       "      <td>8.1</td>\n",
       "      <td>1.2</td>\n",
       "      <td>4.7</td>\n",
       "      <td>140.9</td>\n",
       "    </tr>\n",
       "    <tr>\n",
       "      <th>2</th>\n",
       "      <td>100000_3</td>\n",
       "      <td>2002-04-11 00:36:27</td>\n",
       "      <td>23.4</td>\n",
       "      <td>66.2</td>\n",
       "      <td>0.1</td>\n",
       "      <td>0.4</td>\n",
       "      <td>40.4</td>\n",
       "      <td>18.7</td>\n",
       "      <td>408.7</td>\n",
       "      <td>3.2</td>\n",
       "      <td>8.5</td>\n",
       "      <td>3.7</td>\n",
       "      <td>0.3</td>\n",
       "      <td>15.1</td>\n",
       "      <td>7.9</td>\n",
       "      <td>0.7</td>\n",
       "      <td>5.3</td>\n",
       "      <td>150.0</td>\n",
       "    </tr>\n",
       "    <tr>\n",
       "      <th>3</th>\n",
       "      <td>100000_4</td>\n",
       "      <td>2006-11-29 12:01:11</td>\n",
       "      <td>15.7</td>\n",
       "      <td>78.3</td>\n",
       "      <td>0.0</td>\n",
       "      <td>0.2</td>\n",
       "      <td>54.4</td>\n",
       "      <td>18.9</td>\n",
       "      <td>128.6</td>\n",
       "      <td>5.9</td>\n",
       "      <td>7.0</td>\n",
       "      <td>4.0</td>\n",
       "      <td>0.9</td>\n",
       "      <td>24.4</td>\n",
       "      <td>7.0</td>\n",
       "      <td>1.1</td>\n",
       "      <td>4.4</td>\n",
       "      <td>155.0</td>\n",
       "    </tr>\n",
       "    <tr>\n",
       "      <th>4</th>\n",
       "      <td>100000_5</td>\n",
       "      <td>2007-04-27 16:49:40</td>\n",
       "      <td>27.4</td>\n",
       "      <td>62.2</td>\n",
       "      <td>0.1</td>\n",
       "      <td>0.4</td>\n",
       "      <td>45.2</td>\n",
       "      <td>16.8</td>\n",
       "      <td>315.4</td>\n",
       "      <td>4.9</td>\n",
       "      <td>11.8</td>\n",
       "      <td>5.9</td>\n",
       "      <td>0.1</td>\n",
       "      <td>21.4</td>\n",
       "      <td>7.5</td>\n",
       "      <td>0.8</td>\n",
       "      <td>5.6</td>\n",
       "      <td>137.1</td>\n",
       "    </tr>\n",
       "  </tbody>\n",
       "</table>\n",
       "</div>"
      ],
      "text/plain": [
       "  Encounter_ID             Lab_DTTM  CBC..ABSOLUTE.LYMPHOCYTES  \\\n",
       "0     100000_1  1981-01-08 23:28:24                       32.8   \n",
       "1     100000_2  1996-02-06 17:07:30                       16.1   \n",
       "2     100000_3  2002-04-11 00:36:27                       23.4   \n",
       "3     100000_4  2006-11-29 12:01:11                       15.7   \n",
       "4     100000_5  2007-04-27 16:49:40                       27.4   \n",
       "\n",
       "   CBC..ABSOLUTE.NEUTROPHILS  CBC..BASOPHILS  CBC..EOSINOPHILS  \\\n",
       "0                       76.4             0.0               0.1   \n",
       "1                       77.9             0.2               0.4   \n",
       "2                       66.2             0.1               0.4   \n",
       "3                       78.3             0.0               0.2   \n",
       "4                       62.2             0.1               0.4   \n",
       "\n",
       "   CBC..HEMATOCRIT  CBC..HEMOGLOBIN  CBC..PLATELET.COUNT  \\\n",
       "0             35.9             14.8                386.0   \n",
       "1             49.6             16.2                339.2   \n",
       "2             40.4             18.7                408.7   \n",
       "3             54.4             18.9                128.6   \n",
       "4             45.2             16.8                315.4   \n",
       "\n",
       "   CBC..RED.BLOOD.CELL.COUNT  CBC..WHITE.BLOOD.CELL.COUNT  METABOLIC..ALBUMIN  \\\n",
       "0                        4.8                         10.7                 5.8   \n",
       "1                        5.8                          6.4                 2.7   \n",
       "2                        3.2                          8.5                 3.7   \n",
       "3                        5.9                          7.0                 4.0   \n",
       "4                        4.9                         11.8                 5.9   \n",
       "\n",
       "   METABOLIC..BILI.TOTAL  METABOLIC..BUN  METABOLIC..CALCIUM  \\\n",
       "0                    0.8            12.6                11.1   \n",
       "1                    0.9            15.6                 8.1   \n",
       "2                    0.3            15.1                 7.9   \n",
       "3                    0.9            24.4                 7.0   \n",
       "4                    0.1            21.4                 7.5   \n",
       "\n",
       "   METABOLIC..CREATININE  METABOLIC..POTASSIUM  METABOLIC..SODIUM  \n",
       "0                    0.9                   4.1              135.5  \n",
       "1                    1.2                   4.7              140.9  \n",
       "2                    0.7                   5.3              150.0  \n",
       "3                    1.1                   4.4              155.0  \n",
       "4                    0.8                   5.6              137.1  "
      ]
     },
     "execution_count": 3,
     "metadata": {},
     "output_type": "execute_result"
    }
   ],
   "source": [
    "labs = labs.groupby(['Encounter_ID']).tail(1)\n",
    "labs = labs.reset_index(drop=True)\n",
    "wrong_ids = labs.iloc[:7]\n",
    "wrong_ids['Encounter_ID'] = pd.DataFrame(wrong_ids['Encounter_ID'\n",
    "                                                  ]).applymap(lambda x: x.replace('1e+05', '100000'))\n",
    "labs.head()"
   ]
  },
  {
   "cell_type": "code",
   "execution_count": 4,
   "metadata": {},
   "outputs": [],
   "source": [
    "read1 = pd.merge(info, labs, on = \"Encounter_ID\")\n",
    "read = pd.merge(read1,r_outcome, on = \"Encounter_ID\")\n",
    "read['PatientGender'] = read['PatientGender'].replace('Female',1)\n",
    "read['PatientGender'] = read['PatientGender'].replace('Male',0)\n",
    "read['PatientGender'] = read['PatientGender'].astype('category').cat.codes\n",
    "\n",
    "read['PatientRace'] = read['PatientRace'].replace('African American',0)\n",
    "read['PatientRace'] = read['PatientRace'].replace('White',1)\n",
    "read['PatientRace'] = read['PatientRace'].replace('Asian',2)\n",
    "read['PatientRace'] = read['PatientRace'].replace('Unknown',3)\n",
    "read['PatientRace'] = read['PatientRace'].astype('category').cat.codes\n",
    "\n",
    "read_train = read[read[\"AdmissionEndDate\"].str[:4].astype(int)<=2004]\n",
    "read_test = read[read[\"AdmissionEndDate\"].str[:4].astype(int)>2004]\n",
    "# read_train = read_train.reset_index(drop=True)\n",
    "# read_test = read_test.reset_index(drop=True)\n",
    "\n",
    "read_Xtrain1 = read_train[['PatientEncounterAge','PatientGender','PatientRace']]\n",
    "read_ytrain1 = read_train[['outcome']]\n",
    "read_Xtest1 = read_test[['PatientEncounterAge','PatientGender','PatientRace']]\n",
    "read_ytest1 = read_test[['outcome']]"
   ]
  },
  {
   "cell_type": "markdown",
   "metadata": {},
   "source": [
    "# Naïve model: "
   ]
  },
  {
   "cell_type": "markdown",
   "metadata": {},
   "source": [
    "### readmission - read"
   ]
  },
  {
   "cell_type": "code",
   "execution_count": 5,
   "metadata": {},
   "outputs": [
    {
     "name": "stderr",
     "output_type": "stream",
     "text": [
      "/Users/zhongyizhang/env/lib/python3.7/site-packages/sklearn/utils/validation.py:724: DataConversionWarning: A column-vector y was passed when a 1d array was expected. Please change the shape of y to (n_samples, ), for example using ravel().\n",
      "  y = column_or_1d(y, warn=True)\n"
     ]
    }
   ],
   "source": [
    "#from sklearn import naive_bayes\n",
    "from sklearn.naive_bayes import GaussianNB\n",
    "naive = GaussianNB()\n",
    "nb = naive.fit(read_Xtrain1, read_ytrain1)\n",
    "y_pred1 = nb.predict(read_Xtest1)"
   ]
  },
  {
   "cell_type": "code",
   "execution_count": 6,
   "metadata": {},
   "outputs": [
    {
     "data": {
      "text/plain": [
       "array([[0.99599489, 0.00400511],\n",
       "       [0.99527026, 0.00472974],\n",
       "       [0.99604199, 0.00395801],\n",
       "       ...,\n",
       "       [0.98164369, 0.01835631],\n",
       "       [0.99535436, 0.00464564],\n",
       "       [0.99434525, 0.00565475]])"
      ]
     },
     "execution_count": 6,
     "metadata": {},
     "output_type": "execute_result"
    }
   ],
   "source": [
    "prob1 = nb.predict_proba(read_Xtest1) \n",
    "prob1"
   ]
  },
  {
   "cell_type": "code",
   "execution_count": 7,
   "metadata": {},
   "outputs": [
    {
     "data": {
      "text/plain": [
       "array([[14599,     0],\n",
       "       [   50,     0]])"
      ]
     },
     "execution_count": 7,
     "metadata": {},
     "output_type": "execute_result"
    }
   ],
   "source": [
    "from sklearn import metrics\n",
    "nb_matrix1 = metrics.confusion_matrix(read_ytest1, y_pred1)\n",
    "nb_matrix1"
   ]
  },
  {
   "cell_type": "code",
   "execution_count": 8,
   "metadata": {},
   "outputs": [
    {
     "name": "stdout",
     "output_type": "stream",
     "text": [
      "                            precision    recall  f1-score   support\n",
      "\n",
      "           Not in 30 days       1.00      1.00      1.00     14599\n",
      "Readmitted within 30 days       0.00      0.00      0.00        50\n",
      "\n",
      "                 accuracy                           1.00     14649\n",
      "                macro avg       0.50      0.50      0.50     14649\n",
      "             weighted avg       0.99      1.00      0.99     14649\n",
      "\n"
     ]
    },
    {
     "name": "stderr",
     "output_type": "stream",
     "text": [
      "/Users/zhongyizhang/env/lib/python3.7/site-packages/sklearn/metrics/classification.py:1437: UndefinedMetricWarning: Precision and F-score are ill-defined and being set to 0.0 in labels with no predicted samples.\n",
      "  'precision', 'predicted', average, warn_for)\n"
     ]
    }
   ],
   "source": [
    "target_names1 = ['Not in 30 days', 'Readmitted within 30 days']\n",
    "from sklearn.metrics import classification_report\n",
    "print(\"\", classification_report(read_ytest1, y_pred1, target_names=target_names1))"
   ]
  },
  {
   "cell_type": "code",
   "execution_count": 9,
   "metadata": {},
   "outputs": [
    {
     "name": "stdout",
     "output_type": "stream",
     "text": [
      "0.49090485649702037\n"
     ]
    }
   ],
   "source": [
    "from sklearn.metrics import roc_auc_score\n",
    "nb_probs = nb.predict_proba(read_Xtest1)[:,1]\n",
    "print(roc_auc_score(read_ytest1, nb_probs))"
   ]
  },
  {
   "cell_type": "code",
   "execution_count": 10,
   "metadata": {},
   "outputs": [],
   "source": [
    "from sklearn.metrics import accuracy_score\n",
    "as1 = accuracy_score(read_ytest1, y_pred1)"
   ]
  },
  {
   "cell_type": "code",
   "execution_count": 11,
   "metadata": {},
   "outputs": [
    {
     "data": {
      "text/plain": [
       "0.9965867977336337"
      ]
     },
     "execution_count": 11,
     "metadata": {},
     "output_type": "execute_result"
    }
   ],
   "source": [
    "as1"
   ]
  },
  {
   "cell_type": "code",
   "execution_count": 12,
   "metadata": {},
   "outputs": [
    {
     "data": {
      "text/plain": [
       "0.003413202266366322"
      ]
     },
     "execution_count": 12,
     "metadata": {},
     "output_type": "execute_result"
    }
   ],
   "source": [
    "error1 = 1-as1\n",
    "error1"
   ]
  },
  {
   "cell_type": "code",
   "execution_count": 13,
   "metadata": {},
   "outputs": [],
   "source": [
    "n1 = len(y_pred1)"
   ]
  },
  {
   "cell_type": "code",
   "execution_count": 14,
   "metadata": {},
   "outputs": [
    {
     "data": {
      "text/plain": [
       "0.004357677685114603"
      ]
     },
     "execution_count": 14,
     "metadata": {},
     "output_type": "execute_result"
    }
   ],
   "source": [
    "import math\n",
    "error1 + 1.96 * math.sqrt((error1 * (1 - error1)) / n1)"
   ]
  },
  {
   "cell_type": "code",
   "execution_count": 15,
   "metadata": {},
   "outputs": [
    {
     "data": {
      "text/plain": [
       "0.0024687268476180405"
      ]
     },
     "execution_count": 15,
     "metadata": {},
     "output_type": "execute_result"
    }
   ],
   "source": [
    "error1 - 1.96 * math.sqrt((error1 * (1 - error1)) / n1)"
   ]
  },
  {
   "cell_type": "code",
   "execution_count": 16,
   "metadata": {},
   "outputs": [
    {
     "data": {
      "text/plain": [
       "(array([0.00246863]), array([0.00435777]))"
      ]
     },
     "execution_count": 16,
     "metadata": {},
     "output_type": "execute_result"
    }
   ],
   "source": [
    "import numpy as np, scipy.stats as st\n",
    "st.t.interval(0.95, len(read_ytest1)-1, loc=np.mean(read_ytest1), scale=st.sem(read_ytest1))"
   ]
  },
  {
   "cell_type": "code",
   "execution_count": 18,
   "metadata": {},
   "outputs": [],
   "source": [
    "read_ytest1 = read_ytest1.values"
   ]
  },
  {
   "cell_type": "code",
   "execution_count": 20,
   "metadata": {},
   "outputs": [
    {
     "name": "stdout",
     "output_type": "stream",
     "text": [
      "Original ROC area: 0.4909\n"
     ]
    },
    {
     "data": {
      "image/png": "[encoded data removed]",
      "text/plain": [
       "<Figure size 432x288 with 1 Axes>"
      ]
     },
     "metadata": {
      "needs_background": "light"
     },
     "output_type": "display_data"
    },
    {
     "name": "stdout",
     "output_type": "stream",
     "text": [
      "Confidence interval for the score: [0.4232 - 0.5578]\n"
     ]
    }
   ],
   "source": [
    "#Calculated the Confidence Interval by bootstrapping\n",
    "import numpy as np\n",
    "from scipy.stats import sem\n",
    "from sklearn.metrics import roc_auc_score\n",
    "\n",
    "y_pred = nb_probs\n",
    "y_true = read_ytest1\n",
    "\n",
    "print(\"Original ROC area: {:0.4f}\".format(roc_auc_score(y_true, y_pred)))\n",
    "\n",
    "n_bootstraps = 1000\n",
    "rng_seed = 42  # control reproducibility\n",
    "bootstrapped_scores = []\n",
    "\n",
    "rng = np.random.RandomState(rng_seed)\n",
    "for i in range(n_bootstraps):\n",
    "    # bootstrap by sampling with replacement on the prediction indices\n",
    "    indices = rng.randint(0, len(y_pred), len(y_pred))\n",
    "    if len(np.unique(y_true[indices])) < 2:\n",
    "        # We need at least one positive and one negative sample for ROC AUC\n",
    "        # to be defined: reject the sample\n",
    "        continue\n",
    "\n",
    "    score = roc_auc_score(y_true[indices], y_pred[indices])\n",
    "    bootstrapped_scores.append(score)\n",
    "    #print(\"Bootstrap #{} ROC area: {:0.3f}\".format(i + 1, score))\n",
    "    \n",
    "import matplotlib.pyplot as plt\n",
    "plt.hist(bootstrapped_scores, bins=50)\n",
    "plt.title('Histogram of the bootstrapped ROC AUC scores')\n",
    "plt.show()\n",
    "\n",
    "sorted_scores = np.array(bootstrapped_scores)\n",
    "sorted_scores.sort()\n",
    "\n",
    "# Computing the lower and upper bound of the 90% confidence interval\n",
    "# You can change the bounds percentiles to 0.025 and 0.975 to get\n",
    "# a 95% confidence interval instead.\n",
    "confidence_lower = sorted_scores[int(0.05 * len(sorted_scores))]\n",
    "confidence_upper = sorted_scores[int(0.95 * len(sorted_scores))]\n",
    "print(\"Confidence interval for the score: [{:0.4f} - {:0.4}]\".format(\n",
    "    confidence_lower, confidence_upper))"
   ]
  },
  {
   "cell_type": "code",
   "execution_count": 21,
   "metadata": {},
   "outputs": [
    {
     "name": "stdout",
     "output_type": "stream",
     "text": [
      "AUC: 0.49090485649702037\n",
      "AUC COV: 0.0016849429801989745\n",
      "95% AUC CI: [0.41045214 0.57135757]\n"
     ]
    }
   ],
   "source": [
    "#Transplanted the pROC package from R into Python for CI computation\n",
    "import numpy as np\n",
    "import scipy.stats\n",
    "from scipy import stats\n",
    "\n",
    "read_ytest1=read_ytest1.reshape((14649,))\n",
    "# AUC comparison adapted from\n",
    "# https://github.com/Netflix/vmaf/\n",
    "def compute_midrank(x):\n",
    "    \"\"\"Computes midranks.\n",
    "    Args:\n",
    "       x - a 1D numpy array\n",
    "    Returns:\n",
    "       array of midranks\n",
    "    \"\"\"\n",
    "    J = np.argsort(x)\n",
    "    Z = x[J]\n",
    "    N = len(x)\n",
    "    T = np.zeros(N, dtype=np.float)\n",
    "    i = 0\n",
    "    while i < N:\n",
    "        j = i\n",
    "        while j < N and Z[j] == Z[i]:\n",
    "            j += 1\n",
    "        T[i:j] = 0.5*(i + j - 1)\n",
    "        i = j\n",
    "    T2 = np.empty(N, dtype=np.float)\n",
    "    # Note(kazeevn) +1 is due to Python using 0-based indexing\n",
    "    # instead of 1-based in the AUC formula in the paper\n",
    "    T2[J] = T + 1\n",
    "    return T2\n",
    "\n",
    "\n",
    "def compute_midrank_weight(x, sample_weight):\n",
    "    \"\"\"Computes midranks.\n",
    "    Args:\n",
    "       x - a 1D numpy array\n",
    "    Returns:\n",
    "       array of midranks\n",
    "    \"\"\"\n",
    "    J = np.argsort(x)\n",
    "    Z = x[J]\n",
    "    cumulative_weight = np.cumsum(sample_weight[J])\n",
    "    N = len(x)\n",
    "    T = np.zeros(N, dtype=np.float)\n",
    "    i = 0\n",
    "    while i < N:\n",
    "        j = i\n",
    "        while j < N and Z[j] == Z[i]:\n",
    "            j += 1\n",
    "        T[i:j] = cumulative_weight[i:j].mean()\n",
    "        i = j\n",
    "    T2 = np.empty(N, dtype=np.float)\n",
    "    T2[J] = T\n",
    "    return T2\n",
    "\n",
    "\n",
    "def fastDeLong(predictions_sorted_transposed, label_1_count, sample_weight):\n",
    "    if sample_weight is None:\n",
    "        return fastDeLong_no_weights(predictions_sorted_transposed, label_1_count)\n",
    "    else:\n",
    "        return fastDeLong_weights(predictions_sorted_transposed, label_1_count, sample_weight)\n",
    "\n",
    "\n",
    "def fastDeLong_weights(predictions_sorted_transposed, label_1_count, sample_weight):\n",
    "    \"\"\"\n",
    "    The fast version of DeLong's method for computing the covariance of\n",
    "    unadjusted AUC.\n",
    "    Args:\n",
    "       predictions_sorted_transposed: a 2D numpy.array[n_classifiers, n_examples]\n",
    "          sorted such as the examples with label \"1\" are first\n",
    "    Returns:\n",
    "       (AUC value, DeLong covariance)\n",
    "    Reference:\n",
    "     @article{sun2014fast,\n",
    "       title={Fast Implementation of DeLong's Algorithm for\n",
    "              Comparing the Areas Under Correlated Receiver Oerating Characteristic Curves},\n",
    "       author={Xu Sun and Weichao Xu},\n",
    "       journal={IEEE Signal Processing Letters},\n",
    "       volume={21},\n",
    "       number={11},\n",
    "       pages={1389--1393},\n",
    "       year={2014},\n",
    "       publisher={IEEE}\n",
    "     }\n",
    "    \"\"\"\n",
    "    # Short variables are named as they are in the paper\n",
    "    m = label_1_count\n",
    "    n = predictions_sorted_transposed.shape[1] - m\n",
    "    positive_examples = predictions_sorted_transposed[:, :m]\n",
    "    negative_examples = predictions_sorted_transposed[:, m:]\n",
    "    k = predictions_sorted_transposed.shape[0]\n",
    "\n",
    "    tx = np.empty([k, m], dtype=np.float)\n",
    "    ty = np.empty([k, n], dtype=np.float)\n",
    "    tz = np.empty([k, m + n], dtype=np.float)\n",
    "    for r in range(k):\n",
    "        tx[r, :] = compute_midrank_weight(positive_examples[r, :], sample_weight[:m])\n",
    "        ty[r, :] = compute_midrank_weight(negative_examples[r, :], sample_weight[m:])\n",
    "        tz[r, :] = compute_midrank_weight(predictions_sorted_transposed[r, :], sample_weight)\n",
    "    total_positive_weights = sample_weight[:m].sum()\n",
    "    total_negative_weights = sample_weight[m:].sum()\n",
    "    pair_weights = np.dot(sample_weight[:m, np.newaxis], sample_weight[np.newaxis, m:])\n",
    "    total_pair_weights = pair_weights.sum()\n",
    "    aucs = (sample_weight[:m]*(tz[:, :m] - tx)).sum(axis=1) / total_pair_weights\n",
    "    v01 = (tz[:, :m] - tx[:, :]) / total_negative_weights\n",
    "    v10 = 1. - (tz[:, m:] - ty[:, :]) / total_positive_weights\n",
    "    sx = np.cov(v01)\n",
    "    sy = np.cov(v10)\n",
    "    delongcov = sx / m + sy / n\n",
    "    return aucs, delongcov\n",
    "\n",
    "\n",
    "def fastDeLong_no_weights(predictions_sorted_transposed, label_1_count):\n",
    "    \"\"\"\n",
    "    The fast version of DeLong's method for computing the covariance of\n",
    "    unadjusted AUC.\n",
    "    Args:\n",
    "       predictions_sorted_transposed: a 2D numpy.array[n_classifiers, n_examples]\n",
    "          sorted such as the examples with label \"1\" are first\n",
    "    Returns:\n",
    "       (AUC value, DeLong covariance)\n",
    "    Reference:\n",
    "     @article{sun2014fast,\n",
    "       title={Fast Implementation of DeLong's Algorithm for\n",
    "              Comparing the Areas Under Correlated Receiver Oerating\n",
    "              Characteristic Curves},\n",
    "       author={Xu Sun and Weichao Xu},\n",
    "       journal={IEEE Signal Processing Letters},\n",
    "       volume={21},\n",
    "       number={11},\n",
    "       pages={1389--1393},\n",
    "       year={2014},\n",
    "       publisher={IEEE}\n",
    "     }\n",
    "    \"\"\"\n",
    "    # Short variables are named as they are in the paper\n",
    "    m = label_1_count\n",
    "    n = predictions_sorted_transposed.shape[1] - m\n",
    "    positive_examples = predictions_sorted_transposed[:, :m]\n",
    "    negative_examples = predictions_sorted_transposed[:, m:]\n",
    "    k = predictions_sorted_transposed.shape[0]\n",
    "\n",
    "    tx = np.empty([k, m], dtype=np.float)\n",
    "    ty = np.empty([k, n], dtype=np.float)\n",
    "    tz = np.empty([k, m + n], dtype=np.float)\n",
    "    for r in range(k):\n",
    "        tx[r, :] = compute_midrank(positive_examples[r, :])\n",
    "        ty[r, :] = compute_midrank(negative_examples[r, :])\n",
    "        tz[r, :] = compute_midrank(predictions_sorted_transposed[r, :])\n",
    "    aucs = tz[:, :m].sum(axis=1) / m / n - float(m + 1.0) / 2.0 / n\n",
    "    v01 = (tz[:, :m] - tx[:, :]) / n\n",
    "    v10 = 1.0 - (tz[:, m:] - ty[:, :]) / m\n",
    "    sx = np.cov(v01)\n",
    "    sy = np.cov(v10)\n",
    "    delongcov = sx / m + sy / n\n",
    "    return aucs, delongcov\n",
    "\n",
    "\n",
    "def calc_pvalue(aucs, sigma):\n",
    "    \"\"\"Computes log(10) of p-values.\n",
    "    Args:\n",
    "       aucs: 1D array of AUCs\n",
    "       sigma: AUC DeLong covariances\n",
    "    Returns:\n",
    "       log10(pvalue)\n",
    "    \"\"\"\n",
    "    l = np.array([[1, -1]])\n",
    "    z = np.abs(np.diff(aucs)) / np.sqrt(np.dot(np.dot(l, sigma), l.T))\n",
    "    return np.log10(2) + scipy.stats.norm.logsf(z, loc=0, scale=1) / np.log(10)\n",
    "\n",
    "\n",
    "def compute_ground_truth_statistics(ground_truth, sample_weight):\n",
    "    assert np.array_equal(np.unique(ground_truth), [0, 1])\n",
    "    order = (-ground_truth).argsort()\n",
    "    label_1_count = int(ground_truth.sum())\n",
    "    if sample_weight is None:\n",
    "        ordered_sample_weight = None\n",
    "    else:\n",
    "        ordered_sample_weight = sample_weight[order]\n",
    "\n",
    "    return order, label_1_count, ordered_sample_weight\n",
    "\n",
    "\n",
    "def delong_roc_variance(ground_truth, predictions, sample_weight=None):\n",
    "    \"\"\"\n",
    "    Computes ROC AUC variance for a single set of predictions\n",
    "    Args:\n",
    "       ground_truth: np.array of 0 and 1\n",
    "       predictions: np.array of floats of the probability of being class 1\n",
    "    \"\"\"\n",
    "    order, label_1_count, ordered_sample_weight = compute_ground_truth_statistics(\n",
    "        ground_truth, sample_weight)\n",
    "    predictions_sorted_transposed = predictions[np.newaxis, order]\n",
    "    aucs, delongcov = fastDeLong(predictions_sorted_transposed, label_1_count, ordered_sample_weight)\n",
    "    assert len(aucs) == 1, \"There is a bug in the code, please forward this to the developers\"\n",
    "    return aucs[0], delongcov\n",
    "\n",
    "\n",
    "alpha = .95\n",
    "y_pred = nb_probs\n",
    "y_true = read_ytest1\n",
    "\n",
    "auc, auc_cov = delong_roc_variance(\n",
    "    y_true,\n",
    "    y_pred)\n",
    "\n",
    "auc_std = np.sqrt(auc_cov)\n",
    "lower_upper_q = np.abs(np.array([0, 1]) - (1 - alpha) / 2)\n",
    "\n",
    "ci = stats.norm.ppf(\n",
    "    lower_upper_q,\n",
    "    loc=auc,\n",
    "    scale=auc_std)\n",
    "\n",
    "ci[ci > 1] = 1\n",
    "\n",
    "print('AUC:', auc)\n",
    "print('AUC COV:', auc_cov)\n",
    "print('95% AUC CI:', ci)"
   ]
  },
  {
   "cell_type": "markdown",
   "metadata": {},
   "source": [
    "# Logistic Regression model"
   ]
  },
  {
   "cell_type": "code",
   "execution_count": 22,
   "metadata": {},
   "outputs": [],
   "source": [
    "read_Xtrain2 = read_train.drop([\"Patient_ID\",\"Encounter_ID\",\"AdmissionStartDate\",\"AdmissionEndDate\",\n",
    "                               \"PatientGender\",\"PatientRace\",\"PatientEncounterAge\",\"Lab_DTTM\", \"outcome\"],\n",
    "                              axis=1)\n",
    "read_ytrain2 = read_train[['outcome']]\n",
    "read_Xtest2 = read_test.drop([\"Patient_ID\",\"Encounter_ID\",\"AdmissionStartDate\",\"AdmissionEndDate\",\n",
    "                               \"PatientGender\",\"PatientRace\",\"PatientEncounterAge\",\"Lab_DTTM\", \"outcome\"],\n",
    "                              axis=1)\n",
    "read_ytest2 = read_test[['outcome']]"
   ]
  },
  {
   "cell_type": "code",
   "execution_count": 23,
   "metadata": {
    "scrolled": true
   },
   "outputs": [
    {
     "name": "stderr",
     "output_type": "stream",
     "text": [
      "/Users/zhongyizhang/env/lib/python3.7/site-packages/sklearn/utils/validation.py:724: DataConversionWarning: A column-vector y was passed when a 1d array was expected. Please change the shape of y to (n_samples, ), for example using ravel().\n",
      "  y = column_or_1d(y, warn=True)\n",
      "/Users/zhongyizhang/env/lib/python3.7/site-packages/sklearn/linear_model/logistic.py:947: ConvergenceWarning: lbfgs failed to converge. Increase the number of iterations.\n",
      "  \"of iterations.\", ConvergenceWarning)\n"
     ]
    },
    {
     "data": {
      "text/plain": [
       "array([0, 0, 0, ..., 0, 0, 0])"
      ]
     },
     "execution_count": 23,
     "metadata": {},
     "output_type": "execute_result"
    }
   ],
   "source": [
    "from sklearn.linear_model import LogisticRegression\n",
    "lg = LogisticRegression(random_state=0, solver='lbfgs',multi_class='multinomial')\n",
    "lg = lg.fit(read_Xtrain2, read_ytrain2)\n",
    "y_pred2 = lg.predict(read_Xtest2)\n",
    "y_pred2"
   ]
  },
  {
   "cell_type": "code",
   "execution_count": 24,
   "metadata": {},
   "outputs": [
    {
     "data": {
      "text/plain": [
       "array([[0.99100683, 0.00899317],\n",
       "       [0.99361524, 0.00638476],\n",
       "       [0.99539944, 0.00460056],\n",
       "       ...,\n",
       "       [0.99509458, 0.00490542],\n",
       "       [0.9965151 , 0.0034849 ],\n",
       "       [0.99569133, 0.00430867]])"
      ]
     },
     "execution_count": 24,
     "metadata": {},
     "output_type": "execute_result"
    }
   ],
   "source": [
    "prob2 = lg.predict_proba(read_Xtest2) \n",
    "prob2"
   ]
  },
  {
   "cell_type": "code",
   "execution_count": 25,
   "metadata": {},
   "outputs": [
    {
     "data": {
      "text/plain": [
       "array([[14599,     0],\n",
       "       [   50,     0]])"
      ]
     },
     "execution_count": 25,
     "metadata": {},
     "output_type": "execute_result"
    }
   ],
   "source": [
    "lg_matrix2 = metrics.confusion_matrix(read_ytest2, y_pred2)\n",
    "lg_matrix2"
   ]
  },
  {
   "cell_type": "code",
   "execution_count": 26,
   "metadata": {},
   "outputs": [
    {
     "name": "stdout",
     "output_type": "stream",
     "text": [
      "                            precision    recall  f1-score   support\n",
      "\n",
      "           Not in 30 days       1.00      1.00      1.00     14599\n",
      "Readmitted within 30 days       0.00      0.00      0.00        50\n",
      "\n",
      "                 accuracy                           1.00     14649\n",
      "                macro avg       0.50      0.50      0.50     14649\n",
      "             weighted avg       0.99      1.00      0.99     14649\n",
      "\n"
     ]
    },
    {
     "name": "stderr",
     "output_type": "stream",
     "text": [
      "/Users/zhongyizhang/env/lib/python3.7/site-packages/sklearn/metrics/classification.py:1437: UndefinedMetricWarning: Precision and F-score are ill-defined and being set to 0.0 in labels with no predicted samples.\n",
      "  'precision', 'predicted', average, warn_for)\n"
     ]
    }
   ],
   "source": [
    "target_names1 = ['Not in 30 days', 'Readmitted within 30 days']\n",
    "print(\"\", classification_report(read_ytest2, y_pred2, target_names=target_names1))"
   ]
  },
  {
   "cell_type": "code",
   "execution_count": 27,
   "metadata": {
    "scrolled": true
   },
   "outputs": [
    {
     "name": "stdout",
     "output_type": "stream",
     "text": [
      "0.4842674155764093\n"
     ]
    }
   ],
   "source": [
    "lg_probs = lg.predict_proba(read_Xtest2)[:,1]\n",
    "print(roc_auc_score(read_ytest2, lg_probs))"
   ]
  },
  {
   "cell_type": "code",
   "execution_count": 28,
   "metadata": {},
   "outputs": [
    {
     "data": {
      "text/plain": [
       "(0.003413202266366305, array([0.00246863]), array([0.00435777]))"
      ]
     },
     "execution_count": 28,
     "metadata": {},
     "output_type": "execute_result"
    }
   ],
   "source": [
    "import scipy.stats\n",
    "def mean_confidence_interval(data, confidence=0.95):\n",
    "    a = 1.0 * np.array(data)\n",
    "    n = len(a)\n",
    "    m, se = np.mean(a), scipy.stats.sem(a)\n",
    "    h = se * scipy.stats.t.ppf((1 + confidence) / 2., n-1)\n",
    "    return m, m-h, m+h\n",
    "mean_confidence_interval(read_ytest2, confidence=0.95)"
   ]
  },
  {
   "cell_type": "code",
   "execution_count": 29,
   "metadata": {},
   "outputs": [
    {
     "data": {
      "text/plain": [
       "(array([0.00246863]), array([0.00435777]))"
      ]
     },
     "execution_count": 29,
     "metadata": {},
     "output_type": "execute_result"
    }
   ],
   "source": [
    "import numpy as np, scipy.stats as st\n",
    "st.t.interval(0.95, len(read_ytest2)-1, loc=np.mean(read_ytest2), scale=st.sem(read_ytest2))"
   ]
  },
  {
   "cell_type": "code",
   "execution_count": 30,
   "metadata": {},
   "outputs": [],
   "source": [
    "read_ytest2=read_ytest2.values"
   ]
  },
  {
   "cell_type": "code",
   "execution_count": 31,
   "metadata": {},
   "outputs": [
    {
     "name": "stdout",
     "output_type": "stream",
     "text": [
      "Original ROC area: 0.4843\n"
     ]
    },
    {
     "data": {
      "image/png": "[encoded data removed]",
      "text/plain": [
       "<Figure size 432x288 with 1 Axes>"
      ]
     },
     "metadata": {
      "needs_background": "light"
     },
     "output_type": "display_data"
    },
    {
     "name": "stdout",
     "output_type": "stream",
     "text": [
      "Confidence interval for the score: [0.4147 - 0.5574]\n"
     ]
    }
   ],
   "source": [
    "#Boostrapping calculated 95% CI\n",
    "y_pred = lg_probs\n",
    "y_true = read_ytest2\n",
    "\n",
    "print(\"Original ROC area: {:0.4f}\".format(roc_auc_score(y_true, y_pred)))\n",
    "\n",
    "n_bootstraps = 1000\n",
    "rng_seed = 42  # control reproducibility\n",
    "bootstrapped_scores = []\n",
    "\n",
    "rng = np.random.RandomState(rng_seed)\n",
    "for i in range(n_bootstraps):\n",
    "    # bootstrap by sampling with replacement on the prediction indices\n",
    "    indices = rng.randint(0, len(y_pred), len(y_pred))\n",
    "    if len(np.unique(y_true[indices])) < 2:\n",
    "        # We need at least one positive and one negative sample for ROC AUC\n",
    "        # to be defined: reject the sample\n",
    "        continue\n",
    "\n",
    "    score = roc_auc_score(y_true[indices], y_pred[indices])\n",
    "    bootstrapped_scores.append(score)\n",
    "    #print(\"Bootstrap #{} ROC area: {:0.3f}\".format(i + 1, score))\n",
    "    \n",
    "import matplotlib.pyplot as plt\n",
    "plt.hist(bootstrapped_scores, bins=50)\n",
    "plt.title('Histogram of the bootstrapped ROC AUC scores')\n",
    "plt.show()\n",
    "\n",
    "sorted_scores = np.array(bootstrapped_scores)\n",
    "sorted_scores.sort()\n",
    "\n",
    "# Computing the lower and upper bound of the 90% confidence interval\n",
    "# You can change the bounds percentiles to 0.025 and 0.975 to get\n",
    "# a 95% confidence interval instead.\n",
    "confidence_lower = sorted_scores[int(0.05 * len(sorted_scores))]\n",
    "confidence_upper = sorted_scores[int(0.95 * len(sorted_scores))]\n",
    "print(\"Confidence interval for the score: [{:0.4f} - {:0.4}]\".format(\n",
    "    confidence_lower, confidence_upper))"
   ]
  },
  {
   "cell_type": "code",
   "execution_count": 32,
   "metadata": {},
   "outputs": [
    {
     "name": "stdout",
     "output_type": "stream",
     "text": [
      "AUC: 0.4842674155764093\n",
      "AUC COV: 0.0019394122536979157\n",
      "95% AUC CI: [0.39795303 0.5705818 ]\n"
     ]
    }
   ],
   "source": [
    "#pROC calculated 95% CI without bootstrapping\n",
    "alpha = .95\n",
    "read_ytest2=read_ytest2.reshape((14649,))\n",
    "y_pred = lg_probs\n",
    "y_true = read_ytest2\n",
    "\n",
    "auc, auc_cov = delong_roc_variance(\n",
    "    y_true,\n",
    "    y_pred)\n",
    "\n",
    "auc_std = np.sqrt(auc_cov)\n",
    "lower_upper_q = np.abs(np.array([0, 1]) - (1 - alpha) / 2)\n",
    "\n",
    "ci = stats.norm.ppf(\n",
    "    lower_upper_q,\n",
    "    loc=auc,\n",
    "    scale=auc_std)\n",
    "\n",
    "ci[ci > 1] = 1\n",
    "\n",
    "print('AUC:', auc)\n",
    "print('AUC COV:', auc_cov)\n",
    "print('95% AUC CI:', ci)"
   ]
  },
  {
   "cell_type": "markdown",
   "metadata": {},
   "source": [
    "### Section 2: Gusto Study\n",
    "Using the training datasets, create the following models:\n",
    "1.\tGLM model : This model utilizes all features to predict 30-day mortality in a logistic regression framework.\n",
    "2.\tRidge Regression model : This model utilizes all features to predict 30-day mortality in a logistic regression framework with regularization. Utilize a 5 fold cross validation to build the parameters for your model. \n"
   ]
  },
  {
   "cell_type": "markdown",
   "metadata": {},
   "source": [
    "# Gusto"
   ]
  },
  {
   "cell_type": "code",
   "execution_count": 33,
   "metadata": {},
   "outputs": [],
   "source": [
    "gusto = pd.read_csv(\"gusto_data.csv\")\n",
    "gusto['GROUP'] = gusto['GROUP'].replace('west',0)\n",
    "gusto['GROUP'] = gusto['GROUP'].replace('sample2',1)\n",
    "gusto['GROUP'] = gusto['GROUP'].replace('sample4',2)\n",
    "gusto['GROUP'] = gusto['GROUP'].replace('sample5',3)\n",
    "gusto['GROUP'] = gusto['GROUP'].astype('category').cat.codes"
   ]
  },
  {
   "cell_type": "code",
   "execution_count": 34,
   "metadata": {},
   "outputs": [],
   "source": [
    "gu_train = gusto.loc[(gusto['GROUP'] == 1\n",
    "                     ) | (gusto['GROUP'] == 2\n",
    "                         ) | (gusto['GROUP'] == 3)]\n",
    "gu_test = gusto[gusto['GROUP']==0]\n",
    "\n",
    "gu_Xtrain = gu_train.drop(\"DAY30\",axis=1)\n",
    "gu_ytrain = gu_train[['DAY30']]\n",
    "gu_Xtest = gu_test.drop(\"DAY30\",axis=1)\n",
    "gu_ytest = gu_test[['DAY30']]"
   ]
  },
  {
   "cell_type": "code",
   "execution_count": 35,
   "metadata": {},
   "outputs": [
    {
     "name": "stderr",
     "output_type": "stream",
     "text": [
      "/Users/zhongyizhang/env/lib/python3.7/site-packages/sklearn/linear_model/logistic.py:432: FutureWarning: Default solver will be changed to 'lbfgs' in 0.22. Specify a solver to silence this warning.\n",
      "  FutureWarning)\n",
      "/Users/zhongyizhang/env/lib/python3.7/site-packages/sklearn/utils/validation.py:724: DataConversionWarning: A column-vector y was passed when a 1d array was expected. Please change the shape of y to (n_samples, ), for example using ravel().\n",
      "  y = column_or_1d(y, warn=True)\n"
     ]
    },
    {
     "data": {
      "text/plain": [
       "array([0, 0, 0, ..., 0, 0, 0])"
      ]
     },
     "execution_count": 35,
     "metadata": {},
     "output_type": "execute_result"
    }
   ],
   "source": [
    "lg2 = LogisticRegression()\n",
    "lg2= lg2.fit(gu_Xtrain, gu_ytrain)\n",
    "gu_y_pred = lg2.predict(gu_Xtest)\n",
    "gu_y_pred"
   ]
  },
  {
   "cell_type": "code",
   "execution_count": 36,
   "metadata": {},
   "outputs": [
    {
     "data": {
      "text/plain": [
       "(2188,)"
      ]
     },
     "execution_count": 36,
     "metadata": {},
     "output_type": "execute_result"
    }
   ],
   "source": [
    "gu_y_pred.shape"
   ]
  },
  {
   "cell_type": "code",
   "execution_count": 37,
   "metadata": {},
   "outputs": [
    {
     "data": {
      "text/plain": [
       "array([[0.90879031, 0.09120969],\n",
       "       [0.96328343, 0.03671657],\n",
       "       [0.96116893, 0.03883107],\n",
       "       ...,\n",
       "       [0.9623824 , 0.0376176 ],\n",
       "       [0.89408582, 0.10591418],\n",
       "       [0.97521901, 0.02478099]])"
      ]
     },
     "execution_count": 37,
     "metadata": {},
     "output_type": "execute_result"
    }
   ],
   "source": [
    "prob3 = lg2.predict_proba(gu_Xtest) \n",
    "prob3"
   ]
  },
  {
   "cell_type": "code",
   "execution_count": 38,
   "metadata": {},
   "outputs": [
    {
     "data": {
      "text/plain": [
       "array([[2037,   16],\n",
       "       [ 114,   21]])"
      ]
     },
     "execution_count": 38,
     "metadata": {},
     "output_type": "execute_result"
    }
   ],
   "source": [
    "lg_matrix3 = metrics.confusion_matrix(gu_ytest, gu_y_pred)\n",
    "lg_matrix3"
   ]
  },
  {
   "cell_type": "code",
   "execution_count": 39,
   "metadata": {},
   "outputs": [
    {
     "name": "stdout",
     "output_type": "stream",
     "text": [
      "                        precision    recall  f1-score   support\n",
      "\n",
      "Still alive at 30 day       0.95      0.99      0.97      2053\n",
      "      Died in 30 days       0.57      0.16      0.24       135\n",
      "\n",
      "             accuracy                           0.94      2188\n",
      "            macro avg       0.76      0.57      0.61      2188\n",
      "         weighted avg       0.92      0.94      0.92      2188\n",
      "\n"
     ]
    }
   ],
   "source": [
    "target_names3 = ['Still alive at 30 day', 'Died in 30 days']\n",
    "print(\"\", classification_report(gu_ytest, gu_y_pred, target_names=target_names3))"
   ]
  },
  {
   "cell_type": "code",
   "execution_count": 40,
   "metadata": {},
   "outputs": [
    {
     "name": "stdout",
     "output_type": "stream",
     "text": [
      "0.8284606086846712\n"
     ]
    }
   ],
   "source": [
    "lg2_probs = lg2.predict_proba(gu_Xtest)[:,1]\n",
    "print(roc_auc_score(gu_ytest, lg2_probs))"
   ]
  },
  {
   "cell_type": "code",
   "execution_count": 41,
   "metadata": {},
   "outputs": [],
   "source": [
    "gu_ytest=gu_ytest.values"
   ]
  },
  {
   "cell_type": "code",
   "execution_count": 42,
   "metadata": {},
   "outputs": [
    {
     "name": "stdout",
     "output_type": "stream",
     "text": [
      "Original ROC area: 0.8285\n"
     ]
    },
    {
     "data": {
      "image/png": "[encoded data removed]",
      "text/plain": [
       "<Figure size 432x288 with 1 Axes>"
      ]
     },
     "metadata": {
      "needs_background": "light"
     },
     "output_type": "display_data"
    },
    {
     "name": "stdout",
     "output_type": "stream",
     "text": [
      "Confidence interval for the score: [0.7985 - 0.8585]\n"
     ]
    }
   ],
   "source": [
    "#Boostrapping calculated 95% CI\n",
    "y_pred = lg2_probs\n",
    "y_true = gu_ytest\n",
    "\n",
    "print(\"Original ROC area: {:0.4f}\".format(roc_auc_score(y_true, y_pred)))\n",
    "\n",
    "n_bootstraps = 1000\n",
    "rng_seed = 42  # control reproducibility\n",
    "bootstrapped_scores = []\n",
    "\n",
    "rng = np.random.RandomState(rng_seed)\n",
    "for i in range(n_bootstraps):\n",
    "    # bootstrap by sampling with replacement on the prediction indices\n",
    "    indices = rng.randint(0, len(y_pred), len(y_pred))\n",
    "    if len(np.unique(y_true[indices])) < 2:\n",
    "        # We need at least one positive and one negative sample for ROC AUC\n",
    "        # to be defined: reject the sample\n",
    "        continue\n",
    "\n",
    "    score = roc_auc_score(y_true[indices], y_pred[indices])\n",
    "    bootstrapped_scores.append(score)\n",
    "    #print(\"Bootstrap #{} ROC area: {:0.3f}\".format(i + 1, score))\n",
    "    \n",
    "import matplotlib.pyplot as plt\n",
    "plt.hist(bootstrapped_scores, bins=50)\n",
    "plt.title('Histogram of the bootstrapped ROC AUC scores')\n",
    "plt.show()\n",
    "\n",
    "sorted_scores = np.array(bootstrapped_scores)\n",
    "sorted_scores.sort()\n",
    "\n",
    "# Computing the lower and upper bound of the 90% confidence interval\n",
    "# You can change the bounds percentiles to 0.025 and 0.975 to get\n",
    "# a 95% confidence interval instead.\n",
    "confidence_lower = sorted_scores[int(0.05 * len(sorted_scores))]\n",
    "confidence_upper = sorted_scores[int(0.95 * len(sorted_scores))]\n",
    "print(\"Confidence interval for the score: [{:0.4f} - {:0.4}]\".format(\n",
    "    confidence_lower, confidence_upper))"
   ]
  },
  {
   "cell_type": "code",
   "execution_count": 43,
   "metadata": {},
   "outputs": [
    {
     "name": "stdout",
     "output_type": "stream",
     "text": [
      "AUC: 0.8284606086846711\n",
      "AUC COV: 0.0003479545222665671\n",
      "95% AUC CI: [0.79190034 0.86502087]\n"
     ]
    }
   ],
   "source": [
    "#pROC calculated 95% CI without bootstrapping\n",
    "alpha = .95\n",
    "gu_ytest = gu_ytest.reshape((2188,))\n",
    "y_pred = lg2_probs\n",
    "y_true = gu_ytest\n",
    "\n",
    "auc, auc_cov = delong_roc_variance(\n",
    "    y_true,\n",
    "    y_pred)\n",
    "\n",
    "auc_std = np.sqrt(auc_cov)\n",
    "lower_upper_q = np.abs(np.array([0, 1]) - (1 - alpha) / 2)\n",
    "\n",
    "ci = stats.norm.ppf(\n",
    "    lower_upper_q,\n",
    "    loc=auc,\n",
    "    scale=auc_std)\n",
    "\n",
    "ci[ci > 1] = 1\n",
    "\n",
    "print('AUC:', auc)\n",
    "print('AUC COV:', auc_cov)\n",
    "print('95% AUC CI:', ci)"
   ]
  },
  {
   "cell_type": "code",
   "execution_count": 44,
   "metadata": {},
   "outputs": [
    {
     "data": {
      "text/plain": [
       "0.8271436560769245"
      ]
     },
     "execution_count": 44,
     "metadata": {},
     "output_type": "execute_result"
    }
   ],
   "source": [
    "from sklearn.linear_model import Ridge\n",
    "ridge_model = Ridge(alpha = 1, solver='cholesky')\n",
    "# ridge_model = RidgeClassifier(alpha = 1)\n",
    "\n",
    "ridge_model.fit(gu_Xtrain, gu_ytrain)\n",
    "gu_regul = ridge_model.predict(gu_Xtest)\n",
    "auc = roc_auc_score(gu_ytest, gu_regul)\n",
    "auc"
   ]
  },
  {
   "cell_type": "code",
   "execution_count": 45,
   "metadata": {},
   "outputs": [
    {
     "data": {
      "text/plain": [
       "0.8279590842669263"
      ]
     },
     "execution_count": 45,
     "metadata": {},
     "output_type": "execute_result"
    }
   ],
   "source": [
    "from sklearn.linear_model import RidgeCV\n",
    "ridgecv = RidgeCV(alphas=[1e-3, 1e-2, 1e-1, 1, 10], cv=5, fit_intercept=True, scoring=None, normalize=False)\n",
    "ridgecv=ridgecv.fit(gu_Xtrain,gu_ytrain)\n",
    "gu_ridgecv = ridgecv.predict(gu_Xtest)\n",
    "roc_auc_score(gu_ytest, gu_ridgecv)"
   ]
  },
  {
   "cell_type": "code",
   "execution_count": 46,
   "metadata": {},
   "outputs": [
    {
     "name": "stdout",
     "output_type": "stream",
     "text": [
      "Original ROC area: 0.8280\n"
     ]
    },
    {
     "data": {
      "image/png": "[encoded data removed]",
      "text/plain": [
       "<Figure size 432x288 with 1 Axes>"
      ]
     },
     "metadata": {
      "needs_background": "light"
     },
     "output_type": "display_data"
    },
    {
     "name": "stdout",
     "output_type": "stream",
     "text": [
      "Confidence interval for the score: [0.7982 - 0.8586]\n"
     ]
    }
   ],
   "source": [
    "#Boostrapping calculated 95% CI\n",
    "y_pred = gu_ridgecv\n",
    "y_true = gu_ytest\n",
    "\n",
    "print(\"Original ROC area: {:0.4f}\".format(roc_auc_score(y_true, y_pred)))\n",
    "\n",
    "n_bootstraps = 1000\n",
    "rng_seed = 42  # control reproducibility\n",
    "bootstrapped_scores = []\n",
    "\n",
    "rng = np.random.RandomState(rng_seed)\n",
    "for i in range(n_bootstraps):\n",
    "    # bootstrap by sampling with replacement on the prediction indices\n",
    "    indices = rng.randint(0, len(y_pred), len(y_pred))\n",
    "    if len(np.unique(y_true[indices])) < 2:\n",
    "        # We need at least one positive and one negative sample for ROC AUC\n",
    "        # to be defined: reject the sample\n",
    "        continue\n",
    "\n",
    "    score = roc_auc_score(y_true[indices], y_pred[indices])\n",
    "    bootstrapped_scores.append(score)\n",
    "    #print(\"Bootstrap #{} ROC area: {:0.3f}\".format(i + 1, score))\n",
    "    \n",
    "import matplotlib.pyplot as plt\n",
    "plt.hist(bootstrapped_scores, bins=50)\n",
    "plt.title('Histogram of the bootstrapped ROC AUC scores')\n",
    "plt.show()\n",
    "\n",
    "sorted_scores = np.array(bootstrapped_scores)\n",
    "sorted_scores.sort()\n",
    "\n",
    "# Computing the lower and upper bound of the 90% confidence interval\n",
    "# You can change the bounds percentiles to 0.025 and 0.975 to get\n",
    "# a 95% confidence interval instead.\n",
    "confidence_lower = sorted_scores[int(0.05 * len(sorted_scores))]\n",
    "confidence_upper = sorted_scores[int(0.95 * len(sorted_scores))]\n",
    "print(\"Confidence interval for the score: [{:0.4f} - {:0.4}]\".format(\n",
    "    confidence_lower, confidence_upper))"
   ]
  },
  {
   "cell_type": "code",
   "execution_count": 47,
   "metadata": {},
   "outputs": [
    {
     "name": "stdout",
     "output_type": "stream",
     "text": [
      "AUC: 0.8279590842669264\n",
      "AUC COV: 0.0003523557006508896\n",
      "95% AUC CI: [0.79116833 0.86474984]\n"
     ]
    }
   ],
   "source": [
    "#pROC calculated 95% CI without bootstrapping\n",
    "alpha = .95\n",
    "gu_ridgecv = gu_ridgecv.reshape((2188,))\n",
    "y_pred = gu_ridgecv\n",
    "y_true = gu_ytest\n",
    "\n",
    "auc, auc_cov = delong_roc_variance(\n",
    "    y_true,\n",
    "    y_pred)\n",
    "\n",
    "auc_std = np.sqrt(auc_cov)\n",
    "lower_upper_q = np.abs(np.array([0, 1]) - (1 - alpha) / 2)\n",
    "\n",
    "ci = stats.norm.ppf(\n",
    "    lower_upper_q,\n",
    "    loc=auc,\n",
    "    scale=auc_std)\n",
    "\n",
    "ci[ci > 1] = 1\n",
    "\n",
    "print('AUC:', auc)\n",
    "print('AUC COV:', auc_cov)\n",
    "print('95% AUC CI:', ci)"
   ]
  },
  {
   "cell_type": "code",
   "execution_count": null,
   "metadata": {},
   "outputs": [],
   "source": []
  },
  {
   "cell_type": "markdown",
   "metadata": {},
   "source": [
    "--------------------"
   ]
  },
  {
   "cell_type": "markdown",
   "metadata": {},
   "source": [
    "# Section 3: Short Answer Questions\n",
    "### (d)"
   ]
  },
  {
   "cell_type": "code",
   "execution_count": 59,
   "metadata": {},
   "outputs": [
    {
     "data": {
      "image/png": "[encoded data removed]",
      "text/plain": [
       "<Figure size 432x288 with 1 Axes>"
      ]
     },
     "metadata": {
      "needs_background": "light"
     },
     "output_type": "display_data"
    }
   ],
   "source": [
    "import sklearn.metrics as metrics\n",
    "roc_auc = metrics.auc(fpr, tpr)\n",
    "tpr = [0.57, 0.53, 0.49, 0.4, 0.19]\n",
    "fpr = [0.12, 0.1, 0.08, 0.07, 0.01]\n",
    "tpr2 = [0.57, 0.4, 0.21]\n",
    "fpr2 = [0.1,0.03, 0.01]\n",
    "\n",
    "import matplotlib.pyplot as plt\n",
    "plt.title('Receiver Operating Characteristic')\n",
    "plt.plot(fpr, tpr, 'b', label = 'Model1' % roc_auc)\n",
    "plt.plot(fpr2, tpr2, 'r', label = 'Model2' % roc_auc)\n",
    "plt.legend(loc = 'lower right')\n",
    "plt.plot([0, 1], [0, 1],'r--')\n",
    "plt.xlim([0, 0.65])\n",
    "plt.ylim([0, 0.65])\n",
    "plt.ylabel('True Positive Rate')\n",
    "plt.xlabel('False Positive Rate')\n",
    "plt.show()"
   ]
  },
  {
   "cell_type": "code",
   "execution_count": 61,
   "metadata": {},
   "outputs": [
    {
     "data": {
      "image/png": "[encoded data removed]",
      "text/plain": [
       "<Figure size 432x288 with 1 Axes>"
      ]
     },
     "metadata": {
      "needs_background": "light"
     },
     "output_type": "display_data"
    }
   ],
   "source": [
    "import sklearn.metrics as metrics\n",
    "roc_auc = metrics.auc(fpr, tpr)\n",
    "tpr = [0.57, 0.53, 0.49, 0.4, 0.19]\n",
    "fpr = [0.12, 0.1, 0.08, 0.07, 0.01]\n",
    "tpr2 = [0.57, 0.4, 0.21]\n",
    "fpr2 = [0.1,0.03, 0.01]\n",
    "\n",
    "import matplotlib.pyplot as plt\n",
    "plt.title('Receiver Operating Characteristic')\n",
    "plt.plot(fpr, tpr, 'b', label = 'Model1' % roc_auc)\n",
    "plt.plot(fpr2, tpr2, 'r', label = 'Model2' % roc_auc)\n",
    "plt.legend(loc = 'lower right')\n",
    "plt.plot([0, 1], [0, 1],'r--')\n",
    "plt.xlim([0, 0.15])\n",
    "plt.ylim([0, 0.65])\n",
    "plt.ylabel('True Positive Rate')\n",
    "plt.xlabel('False Positive Rate')\n",
    "plt.show()"
   ]
  },
  {
   "cell_type": "code",
   "execution_count": null,
   "metadata": {},
   "outputs": [],
   "source": []
  },
  {
   "cell_type": "markdown",
   "metadata": {},
   "source": [
    "-----------------------"
   ]
  },
  {
   "cell_type": "code",
   "execution_count": null,
   "metadata": {},
   "outputs": [],
   "source": []
  },
  {
   "cell_type": "code",
   "execution_count": null,
   "metadata": {},
   "outputs": [],
   "source": []
  }
 ],
 "metadata": {
  "kernelspec": {
   "display_name": "Python 3",
   "language": "python",
   "name": "python3"
  },
  "language_info": {
   "codemirror_mode": {
    "name": "ipython",
    "version": 3
   },
   "file_extension": ".py",
   "mimetype": "text/x-python",
   "name": "python",
   "nbconvert_exporter": "python",
   "pygments_lexer": "ipython3",
   "version": "3.7.4"
  }
 },
 "nbformat": 4,
 "nbformat_minor": 2
}
