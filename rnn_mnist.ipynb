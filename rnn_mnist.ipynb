{
 "cells": [
  {
   "cell_type": "code",
   "execution_count": 1,
   "metadata": {},
   "outputs": [
    {
     "name": "stderr",
     "output_type": "stream",
     "text": [
      "Using TensorFlow backend.\n"
     ]
    }
   ],
   "source": [
    "## This program highlights how to build a RNN for image recognition using the MNIST database\n",
    "## [Source: Deep Learning with Python, Francois Chollet]\n",
    "\n",
    "\n",
    "##  Load in libraries\n",
    "\n",
    "from keras.datasets import mnist\n",
    "from keras import layers\n",
    "from keras import models\n",
    "from keras.utils import to_categorical"
   ]
  },
  {
   "cell_type": "code",
   "execution_count": 2,
   "metadata": {},
   "outputs": [
    {
     "name": "stdout",
     "output_type": "stream",
     "text": [
      "(60000, 28, 28)\n"
     ]
    }
   ],
   "source": [
    "## Load in the data\n",
    "(train_images, train_labels), (test_images, test_labels) = mnist.load_data()\n",
    "print(train_images.shape)"
   ]
  },
  {
   "cell_type": "code",
   "execution_count": 3,
   "metadata": {},
   "outputs": [],
   "source": [
    "# create the RNN\n",
    "model = models.Sequential() # this is the first line\n",
    "\n",
    "# we add an LSTM + Dropout\n",
    "model.add(layers.LSTM(129, # number of units\n",
    "                      activation = 'relu', # activation function\n",
    "                     return_sequences = False, # output is not a sequence(TRUE if another LSTM follows)\n",
    "                     input_shape = (28,28)))#shape of image\n",
    "model.add(layers.Dropout(0.2))\n",
    "\n",
    "# add a Dense + Dropout\n",
    "model.add(layers.Dense(32, activation = 'relu'))\n",
    "model.add(layers.Dropout(0.2))\n",
    "\n",
    "# # The final classification layer\n",
    "model.add(layers.Dense(10, activation='softmax'))"
   ]
  },
  {
   "cell_type": "code",
   "execution_count": 4,
   "metadata": {},
   "outputs": [
    {
     "name": "stdout",
     "output_type": "stream",
     "text": [
      "_________________________________________________________________\n",
      "Layer (type)                 Output Shape              Param #   \n",
      "=================================================================\n",
      "lstm_1 (LSTM)                (None, 129)               81528     \n",
      "_________________________________________________________________\n",
      "dropout_1 (Dropout)          (None, 129)               0         \n",
      "_________________________________________________________________\n",
      "dense_1 (Dense)              (None, 32)                4160      \n",
      "_________________________________________________________________\n",
      "dropout_2 (Dropout)          (None, 32)                0         \n",
      "_________________________________________________________________\n",
      "dense_2 (Dense)              (None, 10)                330       \n",
      "=================================================================\n",
      "Total params: 86,018\n",
      "Trainable params: 86,018\n",
      "Non-trainable params: 0\n",
      "_________________________________________________________________\n",
      "None\n"
     ]
    }
   ],
   "source": [
    "print(model.summary())"
   ]
  },
  {
   "cell_type": "code",
   "execution_count": 5,
   "metadata": {},
   "outputs": [],
   "source": [
    "# This is where we format the data\n",
    "\n",
    "# Normalize data to be between 0 and 1\n",
    "train_images = train_images.astype('float32') / 255\n",
    "test_images = test_images.astype('float32') / 255\n",
    "\n",
    "# Change outcome to a one-hot encoded vector\n",
    "train_labels = to_categorical(train_labels)\n",
    "test_labels = to_categorical(test_labels)\n"
   ]
  },
  {
   "cell_type": "code",
   "execution_count": 6,
   "metadata": {},
   "outputs": [
    {
     "name": "stdout",
     "output_type": "stream",
     "text": [
      "Epoch 1/2\n",
      "60000/60000 [==============================] - 100s - loss: 1.1276 - acc: 0.6306   \n",
      "Epoch 2/2\n",
      "60000/60000 [==============================] - 100s - loss: 0.3013 - acc: 0.9171   \n"
     ]
    },
    {
     "data": {
      "text/plain": [
       "<keras.callbacks.History at 0x833a7fb70>"
      ]
     },
     "execution_count": 6,
     "metadata": {},
     "output_type": "execute_result"
    }
   ],
   "source": [
    "# training parameters\n",
    "model.compile(optimizer='rmsprop', \n",
    "              loss='categorical_crossentropy',\n",
    "              metrics=['accuracy'])\n",
    "\n",
    "# Fit the model\n",
    "model.fit(train_images, \n",
    "          train_labels, \n",
    "          epochs=2, # Do this five times\n",
    "          batch_size=64) #use 64 samples at a time to propagate through the network)\n"
   ]
  },
  {
   "cell_type": "code",
   "execution_count": 7,
   "metadata": {},
   "outputs": [
    {
     "name": "stdout",
     "output_type": "stream",
     "text": [
      " 9984/10000 [============================>.] - ETA: 0s0.9514\n"
     ]
    }
   ],
   "source": [
    "\n",
    "# Get accuracy\n",
    "test_loss, test_acc = model.evaluate(test_images, test_labels)\n",
    "print(test_acc)"
   ]
  },
  {
   "cell_type": "code",
   "execution_count": null,
   "metadata": {
    "collapsed": true
   },
   "outputs": [],
   "source": []
  }
 ],
 "metadata": {
  "kernelspec": {
   "display_name": "Python 3",
   "language": "python",
   "name": "python3"
  },
  "language_info": {
   "codemirror_mode": {
    "name": "ipython",
    "version": 3
   },
   "file_extension": ".py",
   "mimetype": "text/x-python",
   "name": "python",
   "nbconvert_exporter": "python",
   "pygments_lexer": "ipython3",
   "version": "3.6.8"
  }
 },
 "nbformat": 4,
 "nbformat_minor": 2
}
